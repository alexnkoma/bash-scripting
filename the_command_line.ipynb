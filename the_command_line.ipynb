{
 "cells": [
  {
   "cell_type": "markdown",
   "id": "de27e092-8943-42c0-b2d2-d8ad0c6b009c",
   "metadata": {},
   "source": [
    "<h1>The command line</h1>"
   ]
  },
  {
   "cell_type": "markdown",
   "id": "55bc20a3-0be1-4541-9306-543784a3f409",
   "metadata": {},
   "source": [
    "Bash tutorial notebook, DO NOT RUN!!!"
   ]
  },
  {
   "cell_type": "markdown",
   "id": "f6eec68b-daf3-4a6d-b305-9a1d1953fb25",
   "metadata": {},
   "source": [
    "<h2>Part 1. Learning the shell</h2>"
   ]
  },
  {
   "cell_type": "markdown",
   "id": "c47a8e57-a3d8-4ae9-bfac-9968ca7d973b",
   "metadata": {},
   "source": [
    "<h3>1. What is the shell?</h3>"
   ]
  },
  {
   "cell_type": "markdown",
   "id": "ac54f0fb-309c-4a59-b2c8-f5a65823cedc",
   "metadata": {},
   "source": [
    "Prompt \"username\" + \"@\" + \"machinename\" + \"current directory path\" + \"$\" for normal user or \"#\" for super-user"
   ]
  },
  {
   "cell_type": "markdown",
   "id": "398f7e9a-27f7-4963-9a43-4f1f551ae291",
   "metadata": {},
   "source": [
    "up arrow key shows previous command (<i>history</i> command, up to 1000), left and right arrows move the cursor in the line"
   ]
  },
  {
   "cell_type": "markdown",
   "id": "3447f7bb-6952-4f06-81de-f82735cfb144",
   "metadata": {},
   "source": [
    "<h4>Simple commands</h4>"
   ]
  },
  {
   "cell_type": "code",
   "execution_count": 1,
   "id": "03c3a8f4-3767-4e3f-9f5a-98fd3d02266a",
   "metadata": {
    "collapsed": true,
    "jupyter": {
     "outputs_hidden": true
    },
    "tags": []
   },
   "outputs": [
    {
     "ename": "NameError",
     "evalue": "name 'date' is not defined",
     "output_type": "error",
     "traceback": [
      "\u001b[0;31m---------------------------------------------------------------------------\u001b[0m",
      "\u001b[0;31mNameError\u001b[0m                                 Traceback (most recent call last)",
      "\u001b[0;32m/tmp/ipykernel_11771/964137889.py\u001b[0m in \u001b[0;36m<module>\u001b[0;34m\u001b[0m\n\u001b[1;32m      1\u001b[0m \u001b[0;31m# time and date\u001b[0m\u001b[0;34m\u001b[0m\u001b[0;34m\u001b[0m\u001b[0m\n\u001b[0;32m----> 2\u001b[0;31m \u001b[0mdate\u001b[0m\u001b[0;34m\u001b[0m\u001b[0;34m\u001b[0m\u001b[0m\n\u001b[0m\u001b[1;32m      3\u001b[0m \u001b[0;31m# current month calendar\u001b[0m\u001b[0;34m\u001b[0m\u001b[0;34m\u001b[0m\u001b[0m\n\u001b[1;32m      4\u001b[0m \u001b[0mcal\u001b[0m\u001b[0;34m\u001b[0m\u001b[0;34m\u001b[0m\u001b[0m\n\u001b[1;32m      5\u001b[0m \u001b[0;31m# drives usage\u001b[0m\u001b[0;34m\u001b[0m\u001b[0;34m\u001b[0m\u001b[0m\n",
      "\u001b[0;31mNameError\u001b[0m: name 'date' is not defined"
     ]
    }
   ],
   "source": [
    "# time and date\n",
    "date\n",
    "# current month calendar\n",
    "cal\n",
    "# drives usage\n",
    "df\n",
    "# memory usage\n",
    "free\n",
    "# close terminal\n",
    "exit"
   ]
  },
  {
   "cell_type": "markdown",
   "id": "5ff59996-0e67-4a3b-9724-fc46ecc9a946",
   "metadata": {},
   "source": [
    "<h3>2. Navigation</h3>"
   ]
  },
  {
   "cell_type": "code",
   "execution_count": null,
   "id": "19fbc54d-5679-4740-b807-1fee14350126",
   "metadata": {},
   "outputs": [],
   "source": [
    "# current working directory\n",
    "pwd"
   ]
  },
  {
   "cell_type": "code",
   "execution_count": null,
   "id": "7dbedf95-9cdb-4e4d-bdee-d553202b117d",
   "metadata": {},
   "outputs": [],
   "source": [
    "# list working directory contents\n",
    "ls"
   ]
  },
  {
   "cell_type": "code",
   "execution_count": null,
   "id": "84ed74ad-87d1-4d2e-87c4-69ea6b5ec0b9",
   "metadata": {},
   "outputs": [],
   "source": [
    "# change directory\n",
    "cd\n",
    "# absoulute path\n",
    "cd /home/username/Documents\n",
    "# relative path\n",
    "#   current directory\n",
    "cd .\n",
    "#   parent directory\n",
    "cd ..\n",
    "# home directory\n",
    "cd\n",
    "# username home directory\n",
    "cd ~username\n",
    "# previous working directory\n",
    "cd -"
   ]
  },
  {
   "cell_type": "markdown",
   "id": "c11f6f42-4f61-4b11-8487-f14c571238b4",
   "metadata": {},
   "source": [
    "<h3>3. Exploring the system</h3>"
   ]
  },
  {
   "cell_type": "code",
   "execution_count": null,
   "id": "b8c11cdf-085d-425d-bc05-6892f1c7c410",
   "metadata": {},
   "outputs": [],
   "source": [
    "# more of ls\n",
    "# list other than current wd\n",
    "ls ~/Documents/Python\n",
    "# list several directories\n",
    "ls ~/Documents/Python /usr/bin\n",
    "# long format (details)\n",
    "ls -l"
   ]
  },
  {
   "cell_type": "markdown",
   "id": "2c2ddfe6-8260-4be3-9aae-596a58520909",
   "metadata": {},
   "source": [
    "<h4>Options and arguments</h4>"
   ]
  },
  {
   "cell_type": "code",
   "execution_count": null,
   "id": "e63a355a-0a39-4833-885f-d3a81f962bcd",
   "metadata": {},
   "outputs": [],
   "source": [
    "# command --option -arguments\n",
    "ls --reverse\n",
    "ls -l\n",
    "ls -la\n",
    "ls -la --reverse\n",
    "# -a --all\n",
    "# -d --directory\n",
    "# -h --human-readable\n",
    "# -l long format\n",
    "# -S sort by size\n",
    "# -t sort by modified date"
   ]
  },
  {
   "cell_type": "code",
   "execution_count": null,
   "id": "c82c6696-0f55-440c-bc63-da3017b4cf7f",
   "metadata": {},
   "outputs": [],
   "source": [
    "# file type\n",
    "file filename"
   ]
  },
  {
   "cell_type": "code",
   "execution_count": null,
   "id": "0a03cfff-f49a-4bea-a3b5-ecab1bab0479",
   "metadata": {},
   "outputs": [],
   "source": [
    "# view content of a text file\n",
    "less filename\n",
    "# less navigation\n",
    "b # page backwards\n",
    "space # page downwards\n",
    "q # quit\n",
    "/string # search ocurrences of string\n",
    "g # beginning of text\n",
    "G # end of text"
   ]
  },
  {
   "cell_type": "code",
   "execution_count": null,
   "id": "6d3c7e67-cc8b-405e-ba27-bfe4172b41de",
   "metadata": {},
   "outputs": [],
   "source": [
    "# explore around\n",
    "cd # to change directory\n",
    "ls # to list contents\n",
    "file # to show filetype\n",
    "less # to show contents of file\n",
    "reset # to reset terminal"
   ]
  },
  {
   "cell_type": "markdown",
   "id": "7a6c7cec-756f-42b7-b103-30d63aaa8292",
   "metadata": {},
   "source": [
    "<h3>4 .Manipulating files and directories</h3>"
   ]
  },
  {
   "cell_type": "code",
   "execution_count": null,
   "id": "4244eea3-ec4f-4b55-b116-53f862cab43c",
   "metadata": {},
   "outputs": [],
   "source": [
    "# wildcards\n",
    "* # any characters\n",
    "? # any single character\n",
    "[characters] # any character in the 'character' list\n",
    "[!character] # any character not in the 'character' list\n",
    "[[:class:]] # any character member of 'class'\n",
    "# common classes\n",
    "[:alnum:] # alphanumeric char\n",
    "[:alpha:] # alphabetic chars\n",
    "[:digit:] # numerals\n",
    "[:lower/upper:] # any lower/uppercase letter\n",
    "# examples\n",
    "g* # any file beggining with 'g'\n",
    "b*.txt # any file beggining with b and ending with '.txt'\n",
    "Data??? # any file beggining with 'Data' and followed by 3 chars\n",
    "[abc]* # any file beggining with 'a','b','c'\n",
    "BACKUP.[0-9][0-9][0-9] # any file beggining with 'BACKUP.' followed by 3 numerals\n",
    "[[:upper:]]* # any file beggining with an uppercase letter\n",
    "*[[:lower:]123] # any file ending with a lowercase leter o 1, 2 or 3\n",
    "# deprecated\n",
    "[a-z],[A-Z]\n",
    "# they work on some gui file managers (Search pattern)"
   ]
  },
  {
   "cell_type": "code",
   "execution_count": null,
   "id": "8d2dccb5-bbae-44ba-a89b-891801d52d30",
   "metadata": {},
   "outputs": [],
   "source": [
    "# create directories\n",
    "mkdir\n",
    "mkdir dir1 dir2 dir3 # create 3 directories"
   ]
  },
  {
   "cell_type": "code",
   "execution_count": null,
   "id": "02889d54-47b9-41cd-8fad-90e5cf3b865b",
   "metadata": {},
   "outputs": [],
   "source": [
    "# copy files and directories\n",
    "cp\n",
    "cp item1 item2 # copies the item1 file or directory to the item2 file or directory\n",
    "cp item... directory # copy multiple items to directory\n",
    "# options:\n",
    "-a --archive # copy all the atributes\n",
    "-i --interactive # prompt before overwritting\n",
    "-r --recursive # copy directories and their content\n",
    "-u --update # only copy files that don't exists or are newer\n",
    "-v --verbose # display messages\n",
    "# examples:\n",
    "cp -i file1 file2 # copy file1 to file2 prompting if overwritting\n",
    "cp dir1/* dir2 # copy everything from dir1 to dir2 (must exist)\n",
    "cp -r dir1 dir2 # same as above but it creates dir2"
   ]
  },
  {
   "cell_type": "code",
   "execution_count": null,
   "id": "69416826-7669-4452-bd41-c6fa02e61f5f",
   "metadata": {},
   "outputs": [],
   "source": [
    "# move and rename files\n",
    "mv\n",
    "mv item1 item2 # rename item1 as item2 if they are both files or directories\n",
    "mv item... directory # move all items to directory\n",
    "# options:\n",
    "-i --interactive # prompt before overwritting\n",
    "-u --update # only copy files that don't exists or are newer\n",
    "-v --verbose # display messages\n",
    "# examples:\n",
    "mv -i file1 file2 # mv file1 to file2 prompting if overwritting, file1 ceases to exist\n",
    "mv file1 file2 dir1 # move file1 and file2 to dir1 (must exist)\n",
    "mv dir1 dir2 # moves dir1 to dir2 and creates it"
   ]
  },
  {
   "cell_type": "code",
   "execution_count": null,
   "id": "7e95155d-e31a-47cd-ad1c-22e310d08997",
   "metadata": {},
   "outputs": [],
   "source": [
    "# remove files and directories\n",
    "rm\n",
    "rm item1 item2 # delete item1 and item2\n",
    "# options:\n",
    "-i --interactive # prompt before deleting\n",
    "-r --recursive # delete directories and their content\n",
    "-f --force # ignore non-existing files and do not prompt, overrides -i\n",
    "-v --verbose # display messages\n",
    "# examples:\n",
    "rm -i file1 # prompts before deleting file1\n",
    "rm -r file1 dir1 # delete fi1e1 dir1 and its contents\n",
    "rm -rf file1 dir1 # same as above, but if file1 or dir1 dont exist continues silently\n",
    "# BEWARE:\n",
    "there is no undelete command nor trash bin!\n",
    "rm *.html # deletes all html files\n",
    "rm * .html # deletes all files!!\n",
    "# before using a wildcard test it with ls:\n",
    "ls *.html\n",
    "rm *.html"
   ]
  },
  {
   "cell_type": "code",
   "execution_count": null,
   "id": "23d39bb3-6301-4093-bcca-998f8dfe23a0",
   "metadata": {},
   "outputs": [],
   "source": [
    "# create links\n",
    "ln\n",
    "ln file link # creates a hard link\n",
    "ln -s item link # creates a symbolic link"
   ]
  }
 ],
 "metadata": {
  "kernelspec": {
   "display_name": "Python 3 (ipykernel)",
   "language": "python",
   "name": "python3"
  },
  "language_info": {
   "codemirror_mode": {
    "name": "ipython",
    "version": 3
   },
   "file_extension": ".py",
   "mimetype": "text/x-python",
   "name": "python",
   "nbconvert_exporter": "python",
   "pygments_lexer": "ipython3",
   "version": "3.10.1"
  }
 },
 "nbformat": 4,
 "nbformat_minor": 5
}
