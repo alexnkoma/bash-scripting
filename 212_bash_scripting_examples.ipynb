{
 "cells": [
  {
   "cell_type": "markdown",
   "id": "9d9fb477-e280-4949-8206-708b1d46709a",
   "metadata": {},
   "source": [
    "<h1>212 Bash scripting examples</h1>"
   ]
  },
  {
   "cell_type": "markdown",
   "id": "46cc8429-afa0-4852-86e6-5c58abfcf3f5",
   "metadata": {},
   "source": [
    "Notebook based on this tutorial:\n",
    "https://www.youtube.com/watch?v=q2z-MRoNbgM\n",
    "DO NOT RUN!!!"
   ]
  },
  {
   "cell_type": "markdown",
   "id": "5ec3c858-d6af-4030-8088-f8a52a7f785e",
   "metadata": {},
   "source": [
    "Scripts are files with .sh extension (shell filetype). Exercise scripts are located at /Documents/Bash/example_scripts/ folder"
   ]
  },
  {
   "cell_type": "markdown",
   "id": "478c5598-ef9a-484c-877b-811469bbe154",
   "metadata": {},
   "source": [
    "For the system to identify as a bash script, every file must have in the first line:\n",
    "#!/bin/bash\n",
    "it is called \"Shebang\""
   ]
  },
  {
   "cell_type": "code",
   "execution_count": null,
   "id": "1a2b66b9-0c10-4496-86c5-d3b62eefc482",
   "metadata": {},
   "outputs": [],
   "source": [
    "# ex 1, Hello world\n",
    "echo \"Hello World\""
   ]
  },
  {
   "cell_type": "markdown",
   "id": "015fa291-b644-416d-a944-fd728d939e1e",
   "metadata": {},
   "source": [
    "It wont run because it does not have execution permissions"
   ]
  },
  {
   "cell_type": "code",
   "execution_count": null,
   "id": "1e830c78-ce38-4eca-b02c-89410600f732",
   "metadata": {},
   "outputs": [],
   "source": [
    "# give execution permissions\n",
    "chmod +x ex_1.sh\n",
    "# and execute with ./filename.sh\n",
    "./ ex_1.sh"
   ]
  },
  {
   "cell_type": "code",
   "execution_count": null,
   "id": "e05b645f-1dba-4741-80d1-833317fd77f2",
   "metadata": {},
   "outputs": [],
   "source": [
    "# ex 2, no new lines\n",
    "echo -n \"Hello\"\n",
    "echo \"World!\"\n",
    "\n",
    "echo \"Hello\"\n",
    "echo \"World!\"\n",
    "\n",
    "# -n option avoids new lines"
   ]
  },
  {
   "cell_type": "code",
   "execution_count": null,
   "id": "ab6fa800-7ed4-46a4-a3bb-2cbc798a5b6f",
   "metadata": {},
   "outputs": [],
   "source": [
    "# ex 3 & 4\n",
    "# string concatenation\n",
    "echo \"one\" \"two\" \"three\" \\\n",
    "        \"four\" \"five\"\n",
    "# \\ allow the bottom line to be interpreted as part of the line above"
   ]
  },
  {
   "cell_type": "code",
   "execution_count": null,
   "id": "2c8b6778-c857-465e-8aed-e8b9ddf93251",
   "metadata": {},
   "outputs": [],
   "source": [
    "# ex 5\n",
    "# tab character\n",
    "echo -e \"one\\ttwo\\tthree\""
   ]
  }
 ],
 "metadata": {
  "kernelspec": {
   "display_name": "Python 3 (ipykernel)",
   "language": "python",
   "name": "python3"
  },
  "language_info": {
   "codemirror_mode": {
    "name": "ipython",
    "version": 3
   },
   "file_extension": ".py",
   "mimetype": "text/x-python",
   "name": "python",
   "nbconvert_exporter": "python",
   "pygments_lexer": "ipython3",
   "version": "3.10.1"
  }
 },
 "nbformat": 4,
 "nbformat_minor": 5
}
